{
 "cells": [
  {
   "cell_type": "code",
   "execution_count": 1,
   "metadata": {},
   "outputs": [],
   "source": [
    "def upper_lower():\n",
    "    word = input('Please type the setence or paragraph you wanna check: ')\n",
    "    d={'upper':0,'lower':0}\n",
    "    for text in word:\n",
    "        if text.isupper():\n",
    "            d['upper']+=1\n",
    "        elif text.islower():\n",
    "            d['lower']+=1\n",
    "        else:\n",
    "            pass\n",
    "    \n",
    "    print('Upper cases: ',d['upper'])\n",
    "    print('Lower cases: ',d['lower'])"
   ]
  },
  {
   "cell_type": "code",
   "execution_count": 2,
   "metadata": {},
   "outputs": [
    {
     "name": "stdout",
     "output_type": "stream",
     "text": [
      "Please type the setence or paragraph you wanna check: Hello Everyone!\n",
      "Upper cases:  2\n",
      "Lower cases:  11\n"
     ]
    }
   ],
   "source": [
    "upper_lower()"
   ]
  }
 ],
 "metadata": {
  "kernelspec": {
   "display_name": "Python 3",
   "language": "python",
   "name": "python3"
  },
  "language_info": {
   "codemirror_mode": {
    "name": "ipython",
    "version": 3
   },
   "file_extension": ".py",
   "mimetype": "text/x-python",
   "name": "python",
   "nbconvert_exporter": "python",
   "pygments_lexer": "ipython3",
   "version": "3.7.4"
  }
 },
 "nbformat": 4,
 "nbformat_minor": 2
}
